{
  "nbformat": 4,
  "nbformat_minor": 0,
  "metadata": {
    "colab": {
      "provenance": []
    },
    "kernelspec": {
      "name": "python3",
      "display_name": "Python 3"
    },
    "language_info": {
      "name": "python"
    }
  },
  "cells": [
    {
      "cell_type": "code",
      "source": [
        "! pip install chromadb\n",
        "! pip install langchain\n",
        "! pip install pdfplumber\n",
        "! pip install  PyPDF4\n",
        "! pip install huggingface_hub\n"
      ],
      "metadata": {
        "id": "1WiHKPxEtKqF"
      },
      "execution_count": null,
      "outputs": []
    },
    {
      "cell_type": "code",
      "source": [
        "from langchain.vectorstores import Chroma"
      ],
      "metadata": {
        "id": "3R8QB5e6UQ5W"
      },
      "execution_count": 2,
      "outputs": []
    },
    {
      "cell_type": "code",
      "source": [
        "import pdfplumber\n",
        "import PyPDF4\n",
        "import re\n",
        "import os\n",
        "import sys\n",
        "from typing import Callable, List, Tuple, Dict\n",
        "\n",
        "from langchain.docstore.document import Document\n",
        "from langchain.text_splitter import RecursiveCharacterTextSplitter\n",
        "from langchain.vectorstores import Chroma"
      ],
      "metadata": {
        "id": "OkmL13EAXFra"
      },
      "execution_count": 20,
      "outputs": []
    },
    {
      "cell_type": "code",
      "source": [
        "from dotenv import load_dotenv\n",
        "from langchain.embeddings import HuggingFaceHubEmbeddings"
      ],
      "metadata": {
        "id": "XKrX6bcLX7Xv"
      },
      "execution_count": 21,
      "outputs": []
    },
    {
      "cell_type": "code",
      "source": [
        "!python pdf_processor.py"
      ],
      "metadata": {
        "colab": {
          "base_uri": "https://localhost:8080/"
        },
        "id": "vco31Vcba1BE",
        "outputId": "faabf740-6755-412b-e1a8-ab1c1b5b13b8"
      },
      "execution_count": 59,
      "outputs": [
        {
          "output_type": "stream",
          "name": "stdout",
          "text": [
            "PdfReadWarning: Xref table not zero-indexed. ID numbers for objects will be corrected. [pdf.py:1801]\n",
            "You're using a different task than the one specified in the repository. Be sure to know what you're doing :)\n"
          ]
        }
      ]
    },
    {
      "cell_type": "code",
      "source": [
        "extract_metadata_from_pdf(\"/content/fundamental_rights_upsc.pdf\")"
      ],
      "metadata": {
        "colab": {
          "base_uri": "https://localhost:8080/"
        },
        "id": "OIh7k_0FgYlZ",
        "outputId": "7b514c41-5a3b-4edc-a09a-952295e41ef9"
      },
      "execution_count": 36,
      "outputs": [
        {
          "output_type": "stream",
          "name": "stderr",
          "text": [
            "PdfReadWarning: Xref table not zero-indexed. ID numbers for objects will be corrected. [pdf.py:1801]\n"
          ]
        },
        {
          "output_type": "execute_result",
          "data": {
            "text/plain": [
              "{'title': 'Download Fundamental Rights UPSC Notes PDF',\n",
              " 'author': \"BYJU'S EXAM PREP\",\n",
              " 'creation_date': \"D:20220601123702+05'30'\"}"
            ]
          },
          "metadata": {},
          "execution_count": 36
        }
      ]
    },
    {
      "cell_type": "code",
      "source": [
        "extract_pages_from_pdf(\"/content/fundamental_rights_upsc.pdf\")"
      ],
      "metadata": {
        "id": "r_HBbym-gs6n"
      },
      "execution_count": null,
      "outputs": []
    },
    {
      "cell_type": "code",
      "source": [
        "pages, metadata = parse_pdf(\"/content/fundamental_rights_upsc.pdf\")\n",
        "\n",
        "# Print the extracted metadata\n",
        "print(metadata)\n"
      ],
      "metadata": {
        "colab": {
          "base_uri": "https://localhost:8080/"
        },
        "id": "nfnCLlRCiysu",
        "outputId": "375dbbfb-86ff-4582-d1ad-f520b03483f6"
      },
      "execution_count": 36,
      "outputs": [
        {
          "output_type": "stream",
          "name": "stdout",
          "text": [
            "{'title': 'Download Fundamental Rights UPSC Notes PDF', 'author': \"BYJU'S EXAM PREP\", 'creation_date': \"D:20220601123702+05'30'\"}\n"
          ]
        }
      ]
    },
    {
      "cell_type": "code",
      "source": [
        "raw_pages, metadata = parse_pdf(\"/content/fundamental_rights_upsc.pdf\")"
      ],
      "metadata": {
        "id": "zgIcwjzfGTwa"
      },
      "execution_count": 40,
      "outputs": []
    },
    {
      "cell_type": "code",
      "source": [
        "cleaning_functions = [\n",
        "        merge_hyphenated_words,\n",
        "        fix_newlines,\n",
        "        remove_multiple_newlines,\n",
        "    ]"
      ],
      "metadata": {
        "id": "Ef3Wch8CGcqU"
      },
      "execution_count": 41,
      "outputs": []
    },
    {
      "cell_type": "code",
      "source": [
        "cleaned_text_pdf = clean_text(raw_pages, cleaning_functions)\n"
      ],
      "metadata": {
        "id": "hktQYXnUGh92"
      },
      "execution_count": 42,
      "outputs": []
    },
    {
      "cell_type": "code",
      "source": [
        "merge_hyphenated_words(\"hi-\\nhello\")"
      ],
      "metadata": {
        "colab": {
          "base_uri": "https://localhost:8080/",
          "height": 36
        },
        "id": "g7HNd7VhjNPV",
        "outputId": "f04c5a95-08f3-48b5-dc26-6ca520358e3d"
      },
      "execution_count": 39,
      "outputs": [
        {
          "output_type": "execute_result",
          "data": {
            "text/plain": [
              "'hihello'"
            ],
            "application/vnd.google.colaboratory.intrinsic+json": {
              "type": "string"
            }
          },
          "metadata": {},
          "execution_count": 39
        }
      ]
    },
    {
      "cell_type": "code",
      "source": [
        "fix_newlines(\"this is new line.\\nthis is second\")"
      ],
      "metadata": {
        "colab": {
          "base_uri": "https://localhost:8080/",
          "height": 36
        },
        "id": "BUi966skkS4x",
        "outputId": "36544090-ea77-49a7-806a-c2e29850099b"
      },
      "execution_count": 40,
      "outputs": [
        {
          "output_type": "execute_result",
          "data": {
            "text/plain": [
              "'this is new line. this is second'"
            ],
            "application/vnd.google.colaboratory.intrinsic+json": {
              "type": "string"
            }
          },
          "metadata": {},
          "execution_count": 40
        }
      ]
    },
    {
      "cell_type": "code",
      "source": [
        "clean_text(pages,[merge_hyphenated_words,fix_newlines,remove_multiple_newlines])"
      ],
      "metadata": {
        "id": "FfKk8XzPkS7A"
      },
      "execution_count": null,
      "outputs": []
    },
    {
      "cell_type": "code",
      "source": [
        "\n",
        "def text_to_docs(text: List[str], metadata: Dict[str, str]) -> List[Document]:\n",
        "    \"\"\"Converts list of strings to a list of Documents with metadata.\"\"\"\n",
        "    doc_chunks = []\n",
        "\n",
        "    for page_num, page in text:\n",
        "        text_splitter = RecursiveCharacterTextSplitter(\n",
        "            chunk_size=1000,\n",
        "            separators=[\"\\n\\n\", \"\\n\", \".\", \"!\", \"?\", \",\", \" \", \"\"],\n",
        "            chunk_overlap=200,\n",
        "        )\n",
        "        chunks = text_splitter.split_text(page)\n",
        "        for i, chunk in enumerate(chunks):\n",
        "            doc = Document(\n",
        "                page_content=chunk,\n",
        "                metadata={\n",
        "                    \"page_number\": page_num,\n",
        "                    \"chunk\": i,\n",
        "                    \"source\": f\"p{page_num}-{i}\",\n",
        "                    **metadata,\n",
        "                },\n",
        "            )\n",
        "            doc_chunks.append(doc)\n",
        "\n",
        "    return doc_chunks"
      ],
      "metadata": {
        "id": "6z-UvcKFpBXP"
      },
      "execution_count": 22,
      "outputs": []
    },
    {
      "cell_type": "code",
      "source": [
        "import sqlite3\n",
        "\n",
        "# Connect to the database\n",
        "conn = sqlite3.connect(\"/content/src/data/chroma/chroma.sqlite3\")\n",
        "\n",
        "# Create a cursor\n",
        "cursor = conn.cursor()\n",
        "\n",
        "# Execute a query to get table names\n",
        "cursor.execute(\"SELECT name FROM sqlite_master WHERE type='table';\")\n",
        "\n",
        "# Fetch the table names\n",
        "table_names = cursor.fetchall()\n",
        "\n",
        "# Print the fetched table names\n",
        "for table in table_names:\n",
        "    print(table[0])\n"
      ],
      "metadata": {
        "colab": {
          "base_uri": "https://localhost:8080/",
          "height": 256
        },
        "id": "TtH7hNtXruIQ",
        "outputId": "0d3f3d4a-e878-4b17-bfe7-fb18395b9ad8"
      },
      "execution_count": 1,
      "outputs": [
        {
          "output_type": "error",
          "ename": "NameError",
          "evalue": "ignored",
          "traceback": [
            "\u001b[0;31m---------------------------------------------------------------------------\u001b[0m",
            "\u001b[0;31mNameError\u001b[0m                                 Traceback (most recent call last)",
            "\u001b[0;32m<ipython-input-1-30e0ba7d31b6>\u001b[0m in \u001b[0;36m<cell line: 2>\u001b[0;34m()\u001b[0m\n\u001b[1;32m      1\u001b[0m \u001b[0;31m# Execute a query to get table names\u001b[0m\u001b[0;34m\u001b[0m\u001b[0;34m\u001b[0m\u001b[0m\n\u001b[0;32m----> 2\u001b[0;31m \u001b[0mcursor\u001b[0m\u001b[0;34m.\u001b[0m\u001b[0mexecute\u001b[0m\u001b[0;34m(\u001b[0m\u001b[0;34m\"SELECT name FROM sqlite_master WHERE type='table';\"\u001b[0m\u001b[0;34m)\u001b[0m\u001b[0;34m\u001b[0m\u001b[0;34m\u001b[0m\u001b[0m\n\u001b[0m\u001b[1;32m      3\u001b[0m \u001b[0;34m\u001b[0m\u001b[0m\n\u001b[1;32m      4\u001b[0m \u001b[0;31m# Fetch the table names\u001b[0m\u001b[0;34m\u001b[0m\u001b[0;34m\u001b[0m\u001b[0m\n\u001b[1;32m      5\u001b[0m \u001b[0mtable_names\u001b[0m \u001b[0;34m=\u001b[0m \u001b[0mcursor\u001b[0m\u001b[0;34m.\u001b[0m\u001b[0mfetchall\u001b[0m\u001b[0;34m(\u001b[0m\u001b[0;34m)\u001b[0m\u001b[0;34m\u001b[0m\u001b[0;34m\u001b[0m\u001b[0m\n",
            "\u001b[0;31mNameError\u001b[0m: name 'cursor' is not defined"
          ]
        }
      ]
    },
    {
      "cell_type": "code",
      "source": [
        "cursor.execute(\"SELECT name FROM sqlite_master WHERE type='table' AND name='upsc-polity';\")\n",
        "table_exists = cursor.fetchone() is not None\n",
        "table_exists"
      ],
      "metadata": {
        "colab": {
          "base_uri": "https://localhost:8080/"
        },
        "id": "2uTlvU3htpyd",
        "outputId": "0c614951-076e-40e1-af5b-2be33d361352"
      },
      "execution_count": 60,
      "outputs": [
        {
          "output_type": "execute_result",
          "data": {
            "text/plain": [
              "False"
            ]
          },
          "metadata": {},
          "execution_count": 60
        }
      ]
    },
    {
      "cell_type": "code",
      "source": [
        "import sqlite3\n",
        "\n",
        "# Connect to the database\n",
        "conn = sqlite3.connect(\"/content/src/data/chroma/chroma.sqlite3\")\n",
        "\n",
        "# Create a cursor\n",
        "cursor = conn.cursor()\n",
        "\n",
        "# Query the database\n",
        "cursor.execute(\"SELECT * FROM embeddings\")\n",
        "\n",
        "# Fetch the results\n",
        "results = cursor.fetchall()\n",
        "\n",
        "# Print the results\n",
        "for result in results:\n",
        "    print(result[0], result[1])"
      ],
      "metadata": {
        "id": "WqynQFvTwSsn"
      },
      "execution_count": null,
      "outputs": []
    },
    {
      "cell_type": "code",
      "source": [
        "import sqlite3\n",
        "\n",
        "# Connect to the database\n",
        "conn = sqlite3.connect(\"/content/src/data/chroma/chroma.sqlite3\")\n",
        "\n",
        "# Create a cursor\n",
        "cursor = conn.cursor()\n",
        "\n",
        "# Query the database\n",
        "cursor.execute(\"PRAGMA table_info(embeddings)\")\n",
        "\n",
        "# Fetch the results\n",
        "results = cursor.fetchall()\n",
        "\n",
        "# Print the results\n",
        "for result in results:\n",
        "    print(result[1])\n"
      ],
      "metadata": {
        "id": "1MmtfXkRw5l4"
      },
      "execution_count": null,
      "outputs": []
    },
    {
      "cell_type": "markdown",
      "source": [
        "#UNIT TEST FOR EMBEDDING VECTORS"
      ],
      "metadata": {
        "id": "X41Fn-WziTKE"
      }
    },
    {
      "cell_type": "code",
      "source": [
        "import sqlite3\n",
        "import numpy as np\n",
        "\n",
        "# Connect to the database\n",
        "conn = sqlite3.connect(\"/content/src/data/chroma/chroma.sqlite3\")\n",
        "\n",
        "# Create a cursor\n",
        "cursor = conn.cursor()\n",
        "\n",
        "# Query the database\n",
        "cursor.execute(\"SELECT embedding_id FROM embeddings\")\n",
        "\n",
        "# Fetch the results\n",
        "results = cursor.fetchall()\n",
        "\n",
        "# Print the results\n",
        "for result in results:\n",
        "    embedding_id = result[0].encode(\"utf-8\")\n",
        "    embedding_vector = np.frombuffer(embedding_id, dtype=np.float32)\n",
        "    print(embedding_vector)\n"
      ],
      "metadata": {
        "id": "9xugzT_HxnOJ"
      },
      "execution_count": null,
      "outputs": []
    },
    {
      "cell_type": "code",
      "source": [
        "# Print the first embedding vector\n",
        "first_embedding_vector = results[0][0].encode(\"utf-8\")\n",
        "first_embedding = np.frombuffer(first_embedding_vector, dtype=np.float32)\n",
        "print(first_embedding)\n",
        "print(len(embedding_vector))"
      ],
      "metadata": {
        "colab": {
          "base_uri": "https://localhost:8080/"
        },
        "id": "CilSgMI9x7Kg",
        "outputId": "4d12cf68-0c2d-404b-d707-bae2df5282e2"
      },
      "execution_count": 70,
      "outputs": [
        {
          "output_type": "stream",
          "name": "stdout",
          "text": [
            "[5.2896574e-08 5.4642762e-05 4.2188891e-08 2.5782576e-09 7.9964824e+20\n",
            " 1.2915932e-11 1.0488790e-08 3.2722347e+21 3.2500992e+21]\n",
            "9\n"
          ]
        }
      ]
    },
    {
      "cell_type": "markdown",
      "source": [
        "# UNIT TEST FOR VECTOR STORE DB"
      ],
      "metadata": {
        "id": "fm2a0RKoi2Z-"
      }
    },
    {
      "cell_type": "code",
      "source": [
        "!python pdf_processor.py"
      ],
      "metadata": {
        "id": "UddZUbaKY43F"
      },
      "execution_count": 22,
      "outputs": []
    },
    {
      "cell_type": "code",
      "source": [
        "from pdf_processor import *\n",
        "from dotenv import load_dotenv\n",
        "load_dotenv()"
      ],
      "metadata": {
        "colab": {
          "base_uri": "https://localhost:8080/"
        },
        "id": "QHNu6PzrY45K",
        "outputId": "979ee28e-2b80-4900-9c0a-c27d1f7fa0e1"
      },
      "execution_count": 8,
      "outputs": [
        {
          "output_type": "execute_result",
          "data": {
            "text/plain": [
              "True"
            ]
          },
          "metadata": {},
          "execution_count": 8
        }
      ]
    },
    {
      "cell_type": "code",
      "source": [
        "pdf_file_path = os.getenv(\"INPUTPDF_PATH\")\n",
        "db = generate_embeds(pdf_file_path)"
      ],
      "metadata": {
        "colab": {
          "base_uri": "https://localhost:8080/"
        },
        "id": "3dhIRVPudnVp",
        "outputId": "0ca6a15d-4689-4155-9461-3a1906d3d7d9"
      },
      "execution_count": 23,
      "outputs": [
        {
          "output_type": "stream",
          "name": "stderr",
          "text": [
            "PdfReadWarning: Xref table not zero-indexed. ID numbers for objects will be corrected. [pdf.py:1801]\n",
            "You're using a different task than the one specified in the repository. Be sure to know what you're doing :)\n",
            "WARNING:huggingface_hub.inference_api:You're using a different task than the one specified in the repository. Be sure to know what you're doing :)\n"
          ]
        }
      ]
    },
    {
      "cell_type": "markdown",
      "source": [
        "#unit test for QUERY"
      ],
      "metadata": {
        "id": "NZZl0YvDR4ZO"
      }
    },
    {
      "cell_type": "code",
      "source": [
        "query = \"Article 22\"\n",
        "matching_docs = db.similarity_search(query)\n",
        "\n",
        "matching_docs[0]\n"
      ],
      "metadata": {
        "id": "JBysE7vRQMjE"
      },
      "execution_count": null,
      "outputs": []
    }
  ]
}